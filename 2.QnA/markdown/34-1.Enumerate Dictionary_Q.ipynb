{
 "cells": [
  {
   "cell_type": "markdown",
   "id": "46e3d990",
   "metadata": {},
   "source": [
    "---\n",
    "# 파이썬 입문 : 도전! 45가지 기초 문법 실습하기 🙋🏻‍♂️\n",
    "---"
   ]
  },
  {
   "cell_type": "markdown",
   "id": "28f413a5",
   "metadata": {},
   "source": [
    "### 꼭 기억하세요 😊\n",
    "+ **시간이 다소 소요되더라도** 스스로 생각해서 프로그래밍을 해야**`실력이 향상 됩니다.`** \n",
    "+ 다양한 문제를 통해서 **`문제 해결`**능력을 향상 시켜봐요.\n",
    "+ 여러 방식으로 **`같은 결과 값`**이 나오도록 프로그래밍 해보세요.\n",
    "+ **문제 해결**에 너무 시간이 오래 걸리면 **`검색(구글링 등)`**을 통해서 해결해보세요.\n",
    "+ **`온라인 Python IDE :`** https://www.programiz.com/python-programming/online-compiler/"
   ]
  },
  {
   "cell_type": "markdown",
   "id": "c3a88b92",
   "metadata": {},
   "source": [
    "***\n",
    "## 34. Enumerate Dictionary💻\n",
    "***\n",
    "#### **`연습예제`** 💻"
   ]
  },
  {
   "cell_type": "markdown",
   "id": "49b428ae",
   "metadata": {},
   "source": [
    "`아래` **`한 개의`** **`리스트(List)`** `를` **`딕셔너리(Dict)`**  **`형식`** `으로 변환하세요.` **`*다양한 방법으로 시도하세요.*`**\n",
    "\n",
    "```python\n",
    "\n",
    "# 리스트\n",
    "l = [\"Red\", \"Green\", \"Black\", \"Blue\", \"Orange\", \"Purple\"]\n",
    "\n",
    "\n",
    "# 변환 결과1\n",
    "{ 0: \"Red\", 1: \"Green\", 2: \"Black\", 3: \"Blue\", 4: \"Orange\", 5: \"Purple\" }\n",
    "\n",
    "# 변환 결과2\n",
    "{ 100: \"Red\", 101: \"Green\", 102: \"Black\", 103: \"Blue\", 104: \"Orange\", 105: \"Purple\" }\n",
    "```"
   ]
  },
  {
   "cell_type": "markdown",
   "id": "44d53430",
   "metadata": {},
   "source": [
    "#### **`코딩영역`**"
   ]
  },
  {
   "cell_type": "code",
   "execution_count": 6,
   "id": "ca1e5a1b",
   "metadata": {},
   "outputs": [
    {
     "name": "stdout",
     "output_type": "stream",
     "text": [
      "{100: 'Red', 101: 'Green', 102: 'Black', 103: 'Blue', 104: 'Orange', 105: 'Purple'}\n"
     ]
    }
   ],
   "source": [
    "# 코딩 영역\n",
    "\n",
    "l = [\"Red\", \"Green\", \"Black\", \"Blue\", \"Orange\", \"Purple\"]\n",
    "\n",
    "d = {}\n",
    "\n",
    "for i in range(len(l)):\n",
    "    d[i+100] = l[i]\n",
    "print(d)\n"
   ]
  },
  {
   "cell_type": "code",
   "execution_count": 8,
   "id": "6c3c6080-a475-4b3c-aaa9-9721cebe423b",
   "metadata": {},
   "outputs": [
    {
     "name": "stdout",
     "output_type": "stream",
     "text": [
      "{0: 'Red', 1: 'Green', 2: 'Black', 3: 'Blue', 4: 'Orange', 5: 'Purple'}\n"
     ]
    }
   ],
   "source": [
    "d = {}\n",
    "\n",
    "for k ,v in enumerate(l):\n",
    "    d[k] = v\n",
    "print(d)"
   ]
  },
  {
   "cell_type": "code",
   "execution_count": 11,
   "id": "1a740abf-a61a-4027-b91a-d8c0b62ab8d8",
   "metadata": {},
   "outputs": [
    {
     "name": "stdout",
     "output_type": "stream",
     "text": [
      "{0: 'Red', 1: 'Green', 2: 'Black', 3: 'Blue', 4: 'Orange', 5: 'Purple'}\n"
     ]
    }
   ],
   "source": [
    "# 변수 = {키: 값 for 키, 밸류 in enumerate}\n",
    "\n",
    "\n",
    "d = {k : v for k, v in enumerate(l)}\n",
    "print(d)"
   ]
  },
  {
   "cell_type": "code",
   "execution_count": 14,
   "id": "13a3b101-b5b8-45e3-9c9c-bc1ec57c55bd",
   "metadata": {},
   "outputs": [
    {
     "name": "stdout",
     "output_type": "stream",
     "text": [
      "{100: 'Red', 101: 'Green', 102: 'Black', 103: 'Blue', 104: 'Orange', 105: 'Purple'}\n"
     ]
    }
   ],
   "source": [
    "d = {}\n",
    "for k in range(len(l)):\n",
    "    d[100+k] = l[k]\n",
    "\n",
    "print(d)"
   ]
  },
  {
   "cell_type": "code",
   "execution_count": 15,
   "id": "da5011de-794f-469b-8a03-6e208c9f63ed",
   "metadata": {},
   "outputs": [
    {
     "name": "stdout",
     "output_type": "stream",
     "text": [
      "{100: 'Red', 101: 'Green', 102: 'Black', 103: 'Blue', 104: 'Orange', 105: 'Purple'}\n"
     ]
    }
   ],
   "source": [
    "d = {}\n",
    "\n",
    "for k , v in enumerate(l):\n",
    "    d[k+100] = v\n",
    "print(d)"
   ]
  },
  {
   "cell_type": "code",
   "execution_count": 16,
   "id": "43dfb9c3-a76f-440f-883a-5cf1943f1be8",
   "metadata": {},
   "outputs": [
    {
     "name": "stdout",
     "output_type": "stream",
     "text": [
      "{100: 'Red', 101: 'Green', 102: 'Black', 103: 'Blue', 104: 'Orange', 105: 'Purple'}\n"
     ]
    }
   ],
   "source": [
    "d = {k : v for k, v in enumerate(l, start=100)}\n",
    "print(d)"
   ]
  },
  {
   "cell_type": "markdown",
   "id": "e48cce26",
   "metadata": {},
   "source": [
    "#### **`Hint`**"
   ]
  },
  {
   "cell_type": "markdown",
   "id": "fc2ea9eb",
   "metadata": {},
   "source": [
    "<details>\n",
    "    <summary>▶<b>여기</b>를 눌러주세요</summary>\n",
    "<div markdown=\"1\">       \n",
    "\n",
    "```python\n",
    "# 파이썬 내장함수인 enumerate()는 열거형 객체를 반환 하고 카운터 변수도 추가 해요.\n",
    "# 인덱스 생성 포함 출력 및 Dictionary 변환해도 자주 사용해요.\n",
    "# 반드시 알아두어야 하는 함수입니다.\n",
    "\n",
    "# enumerate(iterable, start=0)\n",
    "    \n",
    "# 참고\n",
    "# https://docs.python.org/3/library/functions.html#enumerate\n",
    "```\n",
    "</div>\n",
    "</details>"
   ]
  },
  {
   "cell_type": "markdown",
   "id": "866ce5b7",
   "metadata": {},
   "source": [
    "***"
   ]
  }
 ],
 "metadata": {
  "kernelspec": {
   "display_name": "Python 3 (ipykernel)",
   "language": "python",
   "name": "python3"
  },
  "language_info": {
   "codemirror_mode": {
    "name": "ipython",
    "version": 3
   },
   "file_extension": ".py",
   "mimetype": "text/x-python",
   "name": "python",
   "nbconvert_exporter": "python",
   "pygments_lexer": "ipython3",
   "version": "3.10.16"
  },
  "toc": {
   "base_numbering": 1,
   "nav_menu": {},
   "number_sections": false,
   "sideBar": true,
   "skip_h1_title": false,
   "title_cell": "Table of Contents",
   "title_sidebar": "Contents",
   "toc_cell": false,
   "toc_position": {
    "height": "calc(100% - 180px)",
    "left": "10px",
    "top": "150px",
    "width": "318px"
   },
   "toc_section_display": true,
   "toc_window_display": false
  }
 },
 "nbformat": 4,
 "nbformat_minor": 5
}
