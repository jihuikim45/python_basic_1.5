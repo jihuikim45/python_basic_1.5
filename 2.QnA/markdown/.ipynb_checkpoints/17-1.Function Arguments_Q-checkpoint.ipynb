{
 "cells": [
  {
   "cell_type": "markdown",
   "id": "46e3d990",
   "metadata": {},
   "source": [
    "---\n",
    "# 파이썬 입문 : 도전! 45가지 기초 문법 실습하기 🙋🏻‍♂️\n",
    "---"
   ]
  },
  {
   "cell_type": "markdown",
   "id": "28f413a5",
   "metadata": {},
   "source": [
    "### 꼭 기억하세요 😊\n",
    "+ **시간이 다소 소요되더라도** 스스로 생각해서 프로그래밍을 해야**`실력이 향상 됩니다.`** \n",
    "+ 다양한 문제를 통해서 **`문제 해결`**능력을 향상 시켜봐요.\n",
    "+ 여러 방식으로 **`같은 결과 값`**이 나오도록 프로그래밍 해보세요.\n",
    "+ **문제 해결**에 너무 시간이 오래 걸리면 **`검색(구글링 등)`**을 통해서 해결해보세요.\n",
    "+ **`온라인 Python IDE :`** https://www.programiz.com/python-programming/online-compiler/"
   ]
  },
  {
   "cell_type": "markdown",
   "id": "c3a88b92",
   "metadata": {},
   "source": [
    "***\n",
    "## 17. Function Arguments💻\n",
    "***\n",
    "#### **`연습예제`** 💻"
   ]
  },
  {
   "cell_type": "markdown",
   "id": "49b428ae",
   "metadata": {},
   "source": [
    "`아래` **`함수가 실행 시 에러가 발생하는 이유`** `를 생각해보세요.` **`함수 수정 후`** `정상적으로 실행해보세요.`\n",
    "\n",
    "\n",
    "\n",
    "```python\n",
    "\n",
    "# 함수 선언\n",
    "def greet(msg=\"Good morning!\", name):\n",
    "    return \"Hi! \" + name + ', ' + msg\n",
    "\n",
    "# 실행\n",
    "print(greet(\"Kim\"))\n",
    "print(greet(\"Park\", \"How do you do?\"))\n",
    "```"
   ]
  },
  {
   "cell_type": "markdown",
   "id": "44d53430",
   "metadata": {},
   "source": [
    "#### **`코딩영역`**"
   ]
  },
  {
   "cell_type": "code",
   "execution_count": 5,
   "id": "ca1e5a1b",
   "metadata": {},
   "outputs": [
    {
     "ename": "SyntaxError",
     "evalue": "non-default argument follows default argument (1298284384.py, line 5)",
     "output_type": "error",
     "traceback": [
      "\u001b[1;36m  Cell \u001b[1;32mIn[5], line 5\u001b[1;36m\u001b[0m\n\u001b[1;33m    def greet(msg=\"Good morning!\", name):\u001b[0m\n\u001b[1;37m                                   ^\u001b[0m\n\u001b[1;31mSyntaxError\u001b[0m\u001b[1;31m:\u001b[0m non-default argument follows default argument\n"
     ]
    }
   ],
   "source": [
    "# 코딩 영역\n",
    "\n",
    "\n",
    "# 함수 선언\n",
    "def greet(msg=\"Good morning!\", name):\n",
    "    return \"Hi! \" + name + ', ' + msg\n",
    "\n",
    "# 실행\n",
    "print(greet(\"Kim\"))\n",
    "print(greet(\"Park\", \"How do you do?\"))"
   ]
  },
  {
   "cell_type": "code",
   "execution_count": 7,
   "id": "6d1d3b64-8f4c-4881-9139-dd0b97776062",
   "metadata": {},
   "outputs": [
    {
     "name": "stdout",
     "output_type": "stream",
     "text": [
      "Hi!Kim,Good morning!\n"
     ]
    }
   ],
   "source": [
    "# 모든 인자가 디폴트 값 O\n",
    "# 모든 인자가 디폴트 값 X\n",
    "# 디폴트 값 인자가 뒤로!\n",
    "\n",
    "\n",
    "\n",
    "def greet(name, msg=\"Good morning!\"):\n",
    "    return \"Hi!\" + name + ',' + msg\n",
    "\n",
    "print(greet(\"Kim\"))"
   ]
  },
  {
   "cell_type": "markdown",
   "id": "e48cce26",
   "metadata": {},
   "source": [
    "#### **`Hint`**"
   ]
  },
  {
   "cell_type": "markdown",
   "id": "fc2ea9eb",
   "metadata": {},
   "source": [
    "<details>\n",
    "    <summary>▶<b>여기</b>를 눌러주세요</summary>\n",
    "<div markdown=\"1\">       \n",
    "\n",
    "```python\n",
    "# 파이썬 함수 인자 실행 순서는 중요해요.\n",
    "# 함수 정의시 가변인자, 기본값 등을 사용하면 활용도와 가독성이 높게 작성할 수 있어요.\n",
    "# 참고 : https://levelup.gitconnected.com/5-types-of-arguments-in-python-function-definition-e0e2a2cafd29\n",
    "```\n",
    "<br/>\n",
    "<img src=\"../source/17-1.jpg\" alt=\"MarineGEO circle logo\"/>\n",
    "</div>\n",
    "</details>"
   ]
  },
  {
   "cell_type": "markdown",
   "id": "866ce5b7",
   "metadata": {},
   "source": [
    "***"
   ]
  }
 ],
 "metadata": {
  "kernelspec": {
   "display_name": "Python 3 (ipykernel)",
   "language": "python",
   "name": "python3"
  },
  "language_info": {
   "codemirror_mode": {
    "name": "ipython",
    "version": 3
   },
   "file_extension": ".py",
   "mimetype": "text/x-python",
   "name": "python",
   "nbconvert_exporter": "python",
   "pygments_lexer": "ipython3",
   "version": "3.10.16"
  },
  "toc": {
   "base_numbering": 1,
   "nav_menu": {},
   "number_sections": false,
   "sideBar": true,
   "skip_h1_title": false,
   "title_cell": "Table of Contents",
   "title_sidebar": "Contents",
   "toc_cell": false,
   "toc_position": {
    "height": "calc(100% - 180px)",
    "left": "10px",
    "top": "150px",
    "width": "318px"
   },
   "toc_section_display": true,
   "toc_window_display": false
  }
 },
 "nbformat": 4,
 "nbformat_minor": 5
}
