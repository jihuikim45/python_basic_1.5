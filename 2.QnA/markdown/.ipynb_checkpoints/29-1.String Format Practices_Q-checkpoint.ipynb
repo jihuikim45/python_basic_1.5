{
 "cells": [
  {
   "cell_type": "markdown",
   "id": "46e3d990",
   "metadata": {},
   "source": [
    "---\n",
    "# 파이썬 입문 : 도전! 45가지 기초 문법 실습하기 🙋🏻‍♂️\n",
    "---"
   ]
  },
  {
   "cell_type": "markdown",
   "id": "28f413a5",
   "metadata": {},
   "source": [
    "### 꼭 기억하세요 😊\n",
    "+ **시간이 다소 소요되더라도** 스스로 생각해서 프로그래밍을 해야**`실력이 향상 됩니다.`** \n",
    "+ 다양한 문제를 통해서 **`문제 해결`**능력을 향상 시켜봐요.\n",
    "+ 여러 방식으로 **`같은 결과 값`**이 나오도록 프로그래밍 해보세요.\n",
    "+ **문제 해결**에 너무 시간이 오래 걸리면 **`검색(구글링 등)`**을 통해서 해결해보세요.\n",
    "+ **`온라인 Python IDE :`** https://www.programiz.com/python-programming/online-compiler/"
   ]
  },
  {
   "cell_type": "markdown",
   "id": "c3a88b92",
   "metadata": {},
   "source": [
    "***\n",
    "## 29. String Format Practices💻\n",
    "***\n",
    "#### **`연습예제`** 💻"
   ]
  },
  {
   "cell_type": "markdown",
   "id": "49b428ae",
   "metadata": {},
   "source": [
    "`아래` **`String 포멧`** **`출력문`** `에서` **`결과 값`**  `이` **`다른 것`** `은 무엇일까요?` **`*꼭 코딩 후 확인하세요`**\n",
    "\n",
    "```python\n",
    "\n",
    "# 공통 변수 선언\n",
    "x = 10\n",
    "y = 20\n",
    "serialno = 308276567\n",
    "n = 'Kim'\n",
    "\n",
    "\n",
    "# 출력1\n",
    "ex1 = 'n = %s, s = %x, sum=%d' % (n, serialno, (x + y))\n",
    "print(ex1)\n",
    "\n",
    "\n",
    "# 출력2\n",
    "ex2 = 'n = {n}, s = {serialno}, sum={sum}'.format(n=n, serialno=serialno, sum=x + y)\n",
    "print(ex2)\n",
    "\n",
    "\n",
    "# 출력3\n",
    "ex3 = f'n = {n}, s = {serialno}, sum={x + y}'\n",
    "print(ex3)\n",
    "```"
   ]
  },
  {
   "cell_type": "markdown",
   "id": "44d53430",
   "metadata": {},
   "source": [
    "#### **`코딩영역`**"
   ]
  },
  {
   "cell_type": "code",
   "execution_count": 1,
   "id": "ca1e5a1b",
   "metadata": {},
   "outputs": [
    {
     "name": "stdout",
     "output_type": "stream",
     "text": [
      "n = Kim, s = 125fed57, sum=30\n",
      "n = Kim, s = 308276567, sum=30\n",
      "n = Kim, s = 308276567, sum=30\n"
     ]
    }
   ],
   "source": [
    "# 코딩 영역\n",
    "# 공통 변수 선언\n",
    "x = 10\n",
    "y = 20\n",
    "serialno = 308276567\n",
    "n = 'Kim'\n",
    "\n",
    "\n",
    "# 출력1\n",
    "ex1 = 'n = %s, s = %x, sum=%d' % (n, serialno, (x + y))\n",
    "print(ex1)\n",
    "\n",
    "\n",
    "# 출력2\n",
    "ex2 = 'n = {n}, s = {serialno}, sum={sum}'.format(n=n, serialno=serialno, sum=x + y)\n",
    "print(ex2)\n",
    "\n",
    "\n",
    "# 출력3\n",
    "ex3 = f'n = {n}, s = {serialno}, sum={x + y}'\n",
    "print(ex3)"
   ]
  },
  {
   "cell_type": "markdown",
   "id": "e48cce26",
   "metadata": {},
   "source": [
    "#### **`Hint`**"
   ]
  },
  {
   "cell_type": "markdown",
   "id": "fc2ea9eb",
   "metadata": {},
   "source": [
    "<details>\n",
    "    <summary>▶<b>여기</b>를 눌러주세요</summary>\n",
    "<div markdown=\"1\">       \n",
    "\n",
    "```python\n",
    "# 파이썬 문자 출력(서식)은 여러가지 방법이 있어요.\n",
    "    \n",
    "# 1. % Operator(Old Style) -> % (옛날스타일, 가급적 사용 ❌)\n",
    "# 2. str.format(New Style) =-> format\n",
    "# 3. f-Strings (Python 3.6+) -> f-Strings\n",
    "# 4. Template String(from string import Template) -> Template\n",
    "# 참고 : https://docs.python.org/3/library/string.html#template-strings\n",
    "# 참고 : https://realpython.com/python-f-strings/\n",
    "```\n",
    "</div>\n",
    "</details>"
   ]
  },
  {
   "cell_type": "code",
   "execution_count": 21,
   "id": "6faf9a27-53bd-4a92-a767-800c4d4725c6",
   "metadata": {},
   "outputs": [
    {
     "name": "stdout",
     "output_type": "stream",
     "text": [
      "n = Kim, s=125fed57, sum=30\n",
      "n=Kim, s=308276567, sum=30\n",
      "n=Kim, s=308276567, sum=30\n",
      "k 2: 1001101, k 8 : 115\n",
      "k 16: 4d, k 16 : 4D\n",
      "m: 100,000,000,000\n",
      "g:        20\n",
      "g center:     20    .\n",
      "g left: 20        .\n",
      "g right:         20.\n",
      "\n",
      "g center: ----20----.\n",
      "g center: ****20****.\n",
      "g center: $$$$20$$$$.\n"
     ]
    }
   ],
   "source": [
    "x = 10\n",
    "y = 20\n",
    "serialno = 308276567\n",
    "n = 'Kim'\n",
    "\n",
    "\n",
    "# 출력1\n",
    "\n",
    "ex1 = 'n = %s, s=%x, sum=%d' % (n, serialno, (x + y))\n",
    "\n",
    "print(ex1)\n",
    "\n",
    "\n",
    "#출력2\n",
    "ex2 = 'n={n}, s={serialno}, sum={sum}'.format(n=n, serialno=serialno, sum = x + y)\n",
    "print(ex2)\n",
    "\n",
    "\n",
    "#출력3\n",
    "ex3 = f'n={n}, s={serialno}, sum={x + y}'\n",
    "print(ex3)\n",
    "\n",
    "#출력4 -> 변수에 담아놓고 템플릿 식이로 이 모양대로 계속 사용하고 싶을 때\n",
    "\n",
    "from string import Template\n",
    "ex4 = 'n = $n, s = $serialno, sum = $sum'\n",
    "\n",
    "t = Template(ex4)\n",
    "\n",
    "\n",
    "t.substitute(n=n, serialno=serialno, sum=x+y)\n",
    "\n",
    "\n",
    "\n",
    "\n",
    "#출력5 (다양한 f-string 연습)\n",
    "\n",
    "#진수\n",
    "#(2진수 : b, 8진수 : o, 16진수 : x|y)\n",
    "\n",
    "k = 77\n",
    "\n",
    "print(f\"k 2: {k:b}, k 8 : {k:o}\")\n",
    "\n",
    "print(f\"k 16: {k:x}, k 16 : {k:X}\")\n",
    "\n",
    "\n",
    "#구분기호\n",
    "m = 100000000000\n",
    "print(f'm: {m:,}')\n",
    "\n",
    "\n",
    "\n",
    "#정렬\n",
    "# ^: 가운데, < : 왼쪽 , > : 오른쪽\n",
    "\n",
    "g = 20\n",
    "print(f'g:{g:10}')\n",
    "print(f'g center: {g:^10}.')\n",
    "print(f'g left: {g:<10}.')\n",
    "print(f'g right: {g:>10}.')\n",
    "\n",
    "print()\n",
    "\n",
    "#채우기 {g:채울 거 정렬 자릿수}\n",
    "print(f'g center: {g:-^10}.')\n",
    "print(f'g center: {g:*^10}.')\n",
    "print(f'g center: {g:$^10}.') "
   ]
  },
  {
   "cell_type": "code",
   "execution_count": null,
   "id": "162fdff8-7ce2-43c9-8b59-7d0afc4c1a39",
   "metadata": {},
   "outputs": [],
   "source": []
  },
  {
   "cell_type": "code",
   "execution_count": null,
   "id": "a0d7b753-aec9-4e2d-86fa-71845a609a47",
   "metadata": {},
   "outputs": [],
   "source": []
  },
  {
   "cell_type": "code",
   "execution_count": null,
   "id": "4141f23c-12b0-4365-a2fc-eeec1693d48a",
   "metadata": {},
   "outputs": [],
   "source": []
  },
  {
   "cell_type": "code",
   "execution_count": null,
   "id": "5f7d7e18-f10d-4c88-9402-23cd0fe11efb",
   "metadata": {},
   "outputs": [],
   "source": []
  },
  {
   "cell_type": "code",
   "execution_count": null,
   "id": "b05ad714-5d4f-499e-9a62-867b22cc109d",
   "metadata": {},
   "outputs": [],
   "source": []
  },
  {
   "cell_type": "markdown",
   "id": "866ce5b7",
   "metadata": {},
   "source": [
    "***"
   ]
  },
  {
   "cell_type": "code",
   "execution_count": null,
   "id": "1130b1a4-335f-4f13-9fde-2d7595c02cb8",
   "metadata": {},
   "outputs": [],
   "source": []
  }
 ],
 "metadata": {
  "kernelspec": {
   "display_name": "Python 3 (ipykernel)",
   "language": "python",
   "name": "python3"
  },
  "language_info": {
   "codemirror_mode": {
    "name": "ipython",
    "version": 3
   },
   "file_extension": ".py",
   "mimetype": "text/x-python",
   "name": "python",
   "nbconvert_exporter": "python",
   "pygments_lexer": "ipython3",
   "version": "3.10.16"
  },
  "toc": {
   "base_numbering": 1,
   "nav_menu": {},
   "number_sections": false,
   "sideBar": true,
   "skip_h1_title": false,
   "title_cell": "Table of Contents",
   "title_sidebar": "Contents",
   "toc_cell": false,
   "toc_position": {
    "height": "calc(100% - 180px)",
    "left": "10px",
    "top": "150px",
    "width": "318px"
   },
   "toc_section_display": true,
   "toc_window_display": false
  }
 },
 "nbformat": 4,
 "nbformat_minor": 5
}
